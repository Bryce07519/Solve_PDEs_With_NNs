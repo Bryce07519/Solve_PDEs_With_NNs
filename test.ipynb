{
 "cells": [
  {
   "cell_type": "code",
   "execution_count": 1,
   "metadata": {},
   "outputs": [
    {
     "data": {
      "text/plain": [
       "[7, 7, 3, 2, 41, 11, 13, 5, 5, 3, 2]"
      ]
     },
     "execution_count": 1,
     "metadata": {},
     "output_type": "execute_result"
    }
   ],
   "source": [
    "def is_prime(num):\n",
    "    \"\"\" Helper function to check if a number is prime \"\"\"\n",
    "    if num <= 1:\n",
    "        return False\n",
    "    if num <= 3:\n",
    "        return True\n",
    "    if num % 2 == 0 or num % 3 == 0:\n",
    "        return False\n",
    "    i = 5\n",
    "    while i * i <= num:\n",
    "        if num % i == 0 or num % (i + 2) == 0:\n",
    "            return False\n",
    "        i += 6\n",
    "    return True\n",
    "\n",
    "def spiral_order_primes(grid):\n",
    "    \"\"\" Function to find primes in a grid in spiral order \"\"\"\n",
    "    if not grid:\n",
    "        return []\n",
    "    \n",
    "    rows, cols = len(grid), len(grid[0])\n",
    "    result = []\n",
    "    top, bottom, left, right = 0, rows - 1, 0, cols - 1\n",
    "    \n",
    "    while top <= bottom and left <= right:\n",
    "        # Traverse from left to right across the top\n",
    "        for i in range(left, right + 1):\n",
    "            if is_prime(grid[top][i]):\n",
    "                result.append(grid[top][i])\n",
    "        top += 1\n",
    "        \n",
    "        # Traverse from top to bottom down the right side\n",
    "        for i in range(top, bottom + 1):\n",
    "            if is_prime(grid[i][right]):\n",
    "                result.append(grid[i][right])\n",
    "        right -= 1\n",
    "        \n",
    "        if top <= bottom:\n",
    "            # Traverse from right to left across the bottom\n",
    "            for i in range(right, left - 1, -1):\n",
    "                if is_prime(grid[bottom][i]):\n",
    "                    result.append(grid[bottom][i])\n",
    "            bottom -= 1\n",
    "            \n",
    "        if left <= right:\n",
    "            # Traverse from bottom to top up the left side\n",
    "            for i in range(bottom, top - 1, -1):\n",
    "                if is_prime(grid[i][left]):\n",
    "                    result.append(grid[i][left])\n",
    "            left += 1\n",
    "    \n",
    "    return result\n",
    "\n",
    "# Example grid from your image\n",
    "grid = [\n",
    "    [7, 7, 3, 8, 1],\n",
    "    [13, 5, 4, 5, 2],\n",
    "    [9, 2, 12, 3, 9],\n",
    "    [6, 12, 1, 11, 41]\n",
    "]\n",
    "\n",
    "# Get the spiral order primes\n",
    "spiral_order_primes(grid)\n"
   ]
  },
  {
   "cell_type": "code",
   "execution_count": 2,
   "metadata": {},
   "outputs": [
    {
     "name": "stdout",
     "output_type": "stream",
     "text": [
      "13\n"
     ]
    }
   ],
   "source": [
    "def analyze_investments(s):\n",
    "    from collections import defaultdict\n",
    "    \n",
    "    # This will store the count of 'A', 'B', 'C' in the current window\n",
    "    count = defaultdict(int)\n",
    "    required = {'A', 'B', 'C'}\n",
    "    left = 0\n",
    "    result = 0\n",
    "    \n",
    "    # We use the right pointer to expand the window\n",
    "    for right in range(len(s)):\n",
    "        count[s[right]] += 1\n",
    "        \n",
    "        # Check if our window has at least one 'A', 'B', 'C'\n",
    "        while all(count[char] > 0 for char in required):\n",
    "            # The number of valid substrings from the current position of left\n",
    "            result += len(s) - right\n",
    "            \n",
    "            # Move the left pointer to reduce the window size\n",
    "            count[s[left]] -= 1\n",
    "            left += 1\n",
    "\n",
    "    return result\n",
    "\n",
    "# Example usage\n",
    "s = \"ABBCZBAC\"\n",
    "print(analyze_investments(s))  # Output should match the expected number of valid substrings containing 'A', 'B', 'C'\n"
   ]
  },
  {
   "cell_type": "code",
   "execution_count": 4,
   "metadata": {},
   "outputs": [
    {
     "data": {
      "text/plain": [
       "7"
      ]
     },
     "execution_count": 4,
     "metadata": {},
     "output_type": "execute_result"
    }
   ],
   "source": [
    "analyze_investments('PQACBA')"
   ]
  },
  {
   "cell_type": "code",
   "execution_count": 5,
   "metadata": {},
   "outputs": [
    {
     "data": {
      "text/plain": [
       "4"
      ]
     },
     "execution_count": 5,
     "metadata": {},
     "output_type": "execute_result"
    }
   ],
   "source": [
    "def matrix_game(matrix):\n",
    "    import heapq\n",
    "    \n",
    "    n, m = len(matrix), len(matrix[0])\n",
    "    # Priority queue to store the maximum possible value from each column (negative for max-heap)\n",
    "    max_heap = []\n",
    "    for col in range(m):\n",
    "        max_heap.append((-max(row[col] for row in matrix), col))\n",
    "    \n",
    "    heapq.heapify(max_heap)\n",
    "    tom_score, jerry_score = 0, 0\n",
    "    turn = 0  # 0 for Tom's turn, 1 for Jerry's turn\n",
    "    \n",
    "    while max_heap:\n",
    "        value, col = heapq.heappop(max_heap)  # Get max column\n",
    "        if turn == 0:  # Tom's turn\n",
    "            tom_score -= value  # value is negative, so subtract to add the actual value\n",
    "            turn = 1  # Switch to Jerry's turn\n",
    "        else:  # Jerry's turn\n",
    "            jerry_score -= value\n",
    "            turn = 0  # Switch to Tom's turn\n",
    "    \n",
    "    # Calculate the difference in scores\n",
    "    return tom_score - jerry_score\n",
    "\n",
    "# Example matrix from your description\n",
    "matrix = [\n",
    "    [7, 7, 3, 8, 1],\n",
    "    [5, 4, 2, 5, 2],\n",
    "    [4, 9, 7, 4, 3]\n",
    "]\n",
    "\n",
    "# Calculate the difference in scores\n",
    "score_difference = matrix_game(matrix)\n",
    "score_difference\n"
   ]
  },
  {
   "cell_type": "code",
   "execution_count": 6,
   "metadata": {},
   "outputs": [
    {
     "name": "stdout",
     "output_type": "stream",
     "text": [
      "['990', '32', '332']\n"
     ]
    }
   ],
   "source": [
    "def strangeSort(mapping, nums):\n",
    "    # Create a dictionary to map the original digits to their new values\n",
    "    map_dict = {str(i): str(mapping[i]) for i in range(10)}\n",
    "\n",
    "    # Helper function to transform a number based on the mapping\n",
    "    def transform(num):\n",
    "        return ''.join(map_dict[digit] for digit in num)\n",
    "\n",
    "    # Create a list of tuples where each tuple is the transformed number and the original number\n",
    "    transformed_nums = sorted((transform(num), num) for num in nums)\n",
    "\n",
    "    # Return the original numbers sorted based on their transformed values\n",
    "    return [num for _, num in transformed_nums]\n",
    "\n",
    "# Example usage\n",
    "mapping = [3,5,4,6,2,7,9,8,0,1]\n",
    "nums = ['990', '332', '32']\n",
    "print(strangeSort(mapping, nums))\n"
   ]
  },
  {
   "cell_type": "code",
   "execution_count": 9,
   "metadata": {},
   "outputs": [
    {
     "name": "stdout",
     "output_type": "stream",
     "text": [
      "[0, 1, 1, 0]\n",
      "[1, 1, 0, 0]\n"
     ]
    }
   ],
   "source": [
    "\n",
    "class Solution:\n",
    "    def gameOfLife(self, board) -> None:\n",
    "        \"\"\"\n",
    "        Do not return anything, modify board in-place instead.\n",
    "        \"\"\"\n",
    "\n",
    "        neighbors = [(1,0), (1,-1), (0,-1), (-1,-1), (-1,0), (-1,1), (0,1), (1,1)]\n",
    "\n",
    "        rows = len(board)\n",
    "        cols = len(board[0])\n",
    "\n",
    "        # 从原数组复制一份到 copy_board 中\n",
    "        copy_board = [[board[row][col] for col in range(cols)] for row in range(rows)]\n",
    "\n",
    "        # 遍历面板每一个格子里的细胞\n",
    "        for row in range(rows):\n",
    "            for col in range(cols):\n",
    "\n",
    "                # 对于每一个细胞统计其八个相邻位置里的活细胞数量\n",
    "                live_neighbors = 0\n",
    "                for neighbor in neighbors:\n",
    "\n",
    "                    r = (row + neighbor[0])\n",
    "                    c = (col + neighbor[1])\n",
    "\n",
    "                    # 查看相邻的细胞是否是活细胞\n",
    "                    if (r < rows and r >= 0) and (c < cols and c >= 0) and (copy_board[r][c] == 1):\n",
    "                        live_neighbors += 1\n",
    "\n",
    "                # 规则 1 或规则 3        \n",
    "                if copy_board[row][col] == 1 and (live_neighbors < 2 or live_neighbors > 3):\n",
    "                    board[row][col] = 0\n",
    "                # 规则 4\n",
    "                if copy_board[row][col] == 0 and live_neighbors == 3:\n",
    "                    board[row][col] = 1\n",
    "\n",
    "def game_of_life(grid, rules, k):\n",
    "    directions = [(-1, 0), (1, 0), (0, -1), (0, 1), (-1, -1), (-1, 1), (1, -1), (1, 1)]  # Neighboring positions\n",
    "    n, m = len(grid), len(grid[0])  # Dimensions of the grid\n",
    "\n",
    "    def count_neighbors(r, c):\n",
    "        count = 0\n",
    "        for dr, dc in directions:\n",
    "            nr, nc = r + dr, c + dc\n",
    "            if 0 <= nr < n and 0 <= nc < m and grid[nr][nc] == 1:\n",
    "                count += 1\n",
    "        return count\n",
    "\n",
    "    for _ in range(k):\n",
    "        new_grid = [[0] * m for _ in range(n)]\n",
    "        for r in range(n):\n",
    "            for c in range(m):\n",
    "                neighbor_count = count_neighbors(r, c)\n",
    "                if rules[neighbor_count] == 'alive':\n",
    "                    new_grid[r][c] = 1\n",
    "                else:\n",
    "                    new_grid[r][c] = 0\n",
    "        grid = new_grid  # Update the grid for the next turn\n",
    "\n",
    "    return grid\n",
    "\n",
    "# Example usage:\n",
    "initial_grid = [[0, 1, 1, 0],\n",
    "                [1, 1, 0, 0]]\n",
    "rules = ['dead', 'dead', 'dead', 'alive', 'dead', 'alive', 'dead', 'dead', 'dead']  # 'alive' at indices 3 and 5\n",
    "turns = 2\n",
    "\n",
    "final_state = game_of_life(initial_grid, rules, turns)\n",
    "for row in final_state:\n",
    "    print(row)\n"
   ]
  },
  {
   "cell_type": "code",
   "execution_count": 10,
   "metadata": {},
   "outputs": [
    {
     "name": "stdout",
     "output_type": "stream",
     "text": [
      "2\n"
     ]
    }
   ],
   "source": [
    "def findTheRank(performance, rank):\n",
    "    # Calculate the total scores for each student\n",
    "    totals = [(sum(scores), idx) for idx, scores in enumerate(performance)]\n",
    "    \n",
    "    # Sort the students by their total scores in descending order; stable sorting maintains relative order of records with equal keys\n",
    "    totals.sort(reverse=True, key=lambda x: x[0])\n",
    "    \n",
    "    # The rank is one-based, so subtract one to convert to zero-based index\n",
    "    return totals[rank-1][1]\n",
    "\n",
    "# Example usage\n",
    "performance = [\n",
    "    [79, 89, 15],  # Total = 183\n",
    "    [85, 89, 92],  # Total = 266\n",
    "    [71, 96, 88]   # Total = 255\n",
    "]\n",
    "rank = 2  # Looking for the student with the second highest total score\n",
    "\n",
    "print(findTheRank(performance, rank))  # Output will be the index of the student with the second highest score\n"
   ]
  },
  {
   "cell_type": "code",
   "execution_count": 11,
   "metadata": {},
   "outputs": [
    {
     "name": "stdout",
     "output_type": "stream",
     "text": [
      "hurart\n"
     ]
    }
   ],
   "source": [
    "def rotateTheString(originalString, direction, amount):\n",
    "    # Calculate the net rotation\n",
    "    net_rotation = 0\n",
    "    for dir, amt in zip(direction, amount):\n",
    "        if dir == 0:  # Left rotation\n",
    "            net_rotation -= amt\n",
    "        else:  # Right rotation\n",
    "            net_rotation += amt\n",
    "    \n",
    "    # Normalize the net rotation to prevent unnecessary full circle rotations\n",
    "    net_rotation %= len(originalString)\n",
    "    \n",
    "    # Apply the net rotation to the string\n",
    "    if net_rotation > 0:  # Right rotation\n",
    "        return originalString[-net_rotation:] + originalString[:-net_rotation]\n",
    "    elif net_rotation < 0:  # Left rotation, convert to right rotation\n",
    "        net_rotation = -net_rotation\n",
    "        return originalString[net_rotation:] + originalString[:net_rotation]\n",
    "    else:\n",
    "        return originalString\n",
    "\n",
    "# Example usage:\n",
    "originalString = \"hurart\"\n",
    "direction = [0, 1, 0, 1]\n",
    "amount = [2, 2, 1, 1]\n",
    "print(rotateTheString(originalString, direction, amount))\n"
   ]
  },
  {
   "cell_type": "code",
   "execution_count": null,
   "metadata": {},
   "outputs": [],
   "source": []
  }
 ],
 "metadata": {
  "kernelspec": {
   "display_name": "torch",
   "language": "python",
   "name": "python3"
  },
  "language_info": {
   "codemirror_mode": {
    "name": "ipython",
    "version": 3
   },
   "file_extension": ".py",
   "mimetype": "text/x-python",
   "name": "python",
   "nbconvert_exporter": "python",
   "pygments_lexer": "ipython3",
   "version": "3.12.2"
  }
 },
 "nbformat": 4,
 "nbformat_minor": 2
}
